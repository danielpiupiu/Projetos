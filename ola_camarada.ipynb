{
 "cells": [
  {
   "cell_type": "code",
   "execution_count": 2,
   "metadata": {},
   "outputs": [
    {
     "name": "stdout",
     "output_type": "stream",
     "text": [
      "Olá, Comandante!\n",
      "Olá, Capitão!\n",
      "Olá, Tio!\n",
      "Olá, Brother!\n",
      "Olá, Camarada!\n",
      "Olá, Chefia!\n",
      "Olá, Amigão!\n",
      "Desça mais uma rodada.\n"
     ]
    }
   ],
   "source": [
    "#from pandas import *\n",
    "\n",
    "numero = 10.0\n",
    "titulo = [\"comandante\", \"capitão\", \"tio\", \"brother\", \"camarada\", \"chefia\", \"amigão\"]\n",
    "for pessoa in titulo:\n",
    "    if type(pessoa) == str:\n",
    "        print(f\"Olá, {pessoa.title()}!\")\n",
    "print(\"Desça mais uma rodada.\")"
   ]
  },
  {
   "cell_type": "code",
   "execution_count": null,
   "metadata": {},
   "outputs": [],
   "source": [
    "#include <stdio.h>\n",
    "\n",
    "int main(void) {\n",
    "    printf(\"Hello, world!\\n\");\n",
    "}"
   ]
  },
  {
   "cell_type": "markdown",
   "metadata": {},
   "source": [
    "## Roadmap\n",
    "- [ ] Atribuição dos pontos focais **`até 07/12/2023`**;\n",
    "    - [X] Pontos focais \"legado\"\n",
    "    - [ ] Pontos focais \"nova estrutura\"\n",
    "- [X] Elaboração do POC de documentação colaborativa **até 08/12/2023**;\n",
    "\n",
    "- BAP-<font color='blue'>**091**</font>-SE Barra do Peixe\n",
    "\n",
    "```\n",
    "- MAR-<font color='blue'>**096**</font>-SE Imperatriz\n",
    "```\n",
    "\n",
    "``EX1: SEIGT.01-SE2-PE-ELM-DE-0001-00A``<br>\n",
    "``EX3: UHCNY.03-UNG-FA-MEC-LM-0001-002``"
   ]
  }
 ],
 "metadata": {
  "kernelspec": {
   "display_name": "Python 3",
   "language": "python",
   "name": "python3"
  },
  "language_info": {
   "codemirror_mode": {
    "name": "ipython",
    "version": 3
   },
   "file_extension": ".py",
   "mimetype": "text/x-python",
   "name": "python",
   "nbconvert_exporter": "python",
   "pygments_lexer": "ipython3",
   "version": "3.11.4"
  }
 },
 "nbformat": 4,
 "nbformat_minor": 2
}
